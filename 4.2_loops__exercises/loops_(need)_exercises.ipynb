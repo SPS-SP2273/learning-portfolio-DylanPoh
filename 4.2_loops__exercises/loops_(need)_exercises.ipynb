{
 "cells": [
  {
   "attachments": {},
   "cell_type": "markdown",
   "id": "123456",
   "metadata": {},
   "source": [
    "<div style=\"text-align:left;font-size:2em\"><span style=\"font-weight:bolder;font-size:1.25em\">SP2273 | Learning Portfolio</span><br><br><span style=\"font-weight:bold;color:darkred\">Loops (Need) Exercises</span></div>"
   ]
  },
  {
   "cell_type": "code",
   "execution_count": 14,
   "id": "693494f5",
   "metadata": {},
   "outputs": [
    {
     "name": "stdout",
     "output_type": "stream",
     "text": [
      "0 32.0\n",
      "5 41.0\n",
      "10 50.0\n",
      "15 59.0\n",
      "20 68.0\n",
      "25 77.0\n",
      "30 86.0\n",
      "35 95.0\n",
      "40 104.0\n",
      "45 113.0\n",
      "50 122.0\n"
     ]
    }
   ],
   "source": [
    "temperatures_celsius = [\n",
    "    0, 5, 10, 15, 20, 25,\n",
    "    30, 35, 40, 45, 50\n",
    "]\n",
    "\n",
    "temperatures_fahrenheit = []\n",
    "for temp_celcius in temperatures_celsius:\n",
    "    temperatures_fahrenheit += [(temp_celcius*9/5 + 32)]\n",
    "\n",
    "for i in range(len(temperatures_celsius)):\n",
    "    print(temperatures_celsius[i], temperatures_fahrenheit[i])"
   ]
  },
  {
   "cell_type": "code",
   "execution_count": 11,
   "id": "d20baeec",
   "metadata": {},
   "outputs": [
    {
     "name": "stdout",
     "output_type": "stream",
     "text": [
      "[1, 2]\n"
     ]
    }
   ],
   "source": [
    "ls = []\n",
    "ls += [1]\n",
    "ls += [2]\n",
    "print(ls)"
   ]
  },
  {
   "cell_type": "code",
   "execution_count": 25,
   "id": "3b685996",
   "metadata": {},
   "outputs": [
    {
     "name": "stdout",
     "output_type": "stream",
     "text": [
      "1 : 1   2   3   4   5   \n",
      "2 : 2   4   6   8   10  \n",
      "3 : 3   6   9   12  15  \n",
      "4 : 4   8   12  16  20  \n",
      "5 : 5   10  15  20  25  \n"
     ]
    }
   ],
   "source": [
    "for n in range(1,6):\n",
    "    print(n, \":\", end=\" \")\n",
    "    for m in range(1,6):\n",
    "        print(f'{n*m:<4}', end='')\n",
    "    print()"
   ]
  },
  {
   "cell_type": "code",
   "execution_count": 1,
   "id": "cb2762ee",
   "metadata": {},
   "outputs": [
    {
     "name": "stdout",
     "output_type": "stream",
     "text": [
      "Experiment  1: No. of heads = 7\n",
      "Experiment  2: No. of heads = 6\n",
      "Experiment  3: No. of heads = 8\n",
      "Experiment  4: No. of heads = 4\n",
      "Experiment  5: No. of heads = 6\n",
      "Experiment  6: No. of heads = 6\n",
      "Experiment  7: No. of heads = 5\n",
      "Experiment  8: No. of heads = 6\n",
      "Experiment  9: No. of heads = 6\n",
      "Experiment 10: No. of heads = 6\n"
     ]
    }
   ],
   "source": [
    "import numpy as np\n",
    "np_coinflip = np.random.rand(10)\n",
    "# print(np_coinflip)\n",
    "len(np_coinflip[np_coinflip < 0.5])\n",
    "# print(np_coinflip < 0.5, len(np_coinflip[np_coinflip < 0.5]))\n",
    "for i in range(10):\n",
    "    np_coinflip = np.random.rand(10)\n",
    "    # heads = len(np_coinflip[np_coinflip < 0.5])\n",
    "    heads = np.sum(np_coinflip < 0.5)\n",
    "    print(f'Experiment{i+1:>3}: No. of heads = {heads}')"
   ]
  }
 ],
 "metadata": {
  "kernelspec": {
   "display_name": "base",
   "language": "python",
   "name": "python3"
  },
  "language_info": {
   "codemirror_mode": {
    "name": "ipython",
    "version": 3
   },
   "file_extension": ".py",
   "mimetype": "text/x-python",
   "name": "python",
   "nbconvert_exporter": "python",
   "pygments_lexer": "ipython3",
   "version": "3.13.5"
  },
  "toc": {
   "base_numbering": 1,
   "nav_menu": {},
   "number_sections": true,
   "sideBar": true,
   "skip_h1_title": false,
   "title_cell": "Table of Contents",
   "title_sidebar": "Contents",
   "toc_cell": false,
   "toc_position": {},
   "toc_section_display": true,
   "toc_window_display": false
  }
 },
 "nbformat": 4,
 "nbformat_minor": 5
}
