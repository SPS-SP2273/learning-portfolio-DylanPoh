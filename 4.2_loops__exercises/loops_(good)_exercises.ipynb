{
 "cells": [
  {
   "attachments": {},
   "cell_type": "markdown",
   "id": "123456",
   "metadata": {},
   "source": [
    "<div style=\"text-align:left;font-size:2em\"><span style=\"font-weight:bolder;font-size:1.25em\">SP2273 | Learning Portfolio</span><br><br><span style=\"font-weight:bold;color:darkred\">Loops (Good) Exercises</span></div>"
   ]
  },
  {
   "cell_type": "code",
   "execution_count": 2,
   "id": "f73c86ef",
   "metadata": {},
   "outputs": [
    {
     "name": "stdout",
     "output_type": "stream",
     "text": [
      "[1, 9, 25, 49, 81]\n"
     ]
    }
   ],
   "source": [
    "py_list = []\n",
    "for i in range(10):\n",
    "    if i%2 == 0:\n",
    "        continue\n",
    "    else:\n",
    "        py_list.append(i**2)\n",
    "print(py_list)"
   ]
  },
  {
   "cell_type": "code",
   "execution_count": 3,
   "id": "a4aacdd0",
   "metadata": {},
   "outputs": [
    {
     "data": {
      "text/plain": [
       "[1, 9, 25, 49, 81]"
      ]
     },
     "execution_count": 3,
     "metadata": {},
     "output_type": "execute_result"
    }
   ],
   "source": [
    "[n**2 for n in range(10) if n%2 == 1]"
   ]
  },
  {
   "cell_type": "code",
   "execution_count": null,
   "id": "c0b08624",
   "metadata": {},
   "outputs": [
    {
     "name": "stdout",
     "output_type": "stream",
     "text": [
      "883 ns ± 36.1 ns per loop (mean ± std. dev. of 7 runs, 1,000,000 loops each)\n"
     ]
    }
   ],
   "source": [
    "%%timeit\n",
    "py_list = []\n",
    "for i in range(10):\n",
    "    if i%2 == 0:\n",
    "        continue\n",
    "    else:\n",
    "        py_list.append(i**2)"
   ]
  },
  {
   "cell_type": "code",
   "execution_count": null,
   "id": "db1ffe78",
   "metadata": {},
   "outputs": [
    {
     "name": "stdout",
     "output_type": "stream",
     "text": [
      "840 ns ± 7.87 ns per loop (mean ± std. dev. of 7 runs, 1,000,000 loops each)\n"
     ]
    }
   ],
   "source": [
    "%%timeit\n",
    "[n**2 for n in range(10) if n%2 == 1]"
   ]
  },
  {
   "cell_type": "code",
   "execution_count": 16,
   "id": "91f14faf",
   "metadata": {},
   "outputs": [
    {
     "name": "stdout",
     "output_type": "stream",
     "text": [
      "After 1 year(s), there is 95.000 units of sample left\n",
      "After 2 year(s), there is 90.250 units of sample left\n",
      "After 3 year(s), there is 85.737 units of sample left\n",
      "After 4 year(s), there is 81.451 units of sample left\n",
      "After 5 year(s), there is 77.378 units of sample left\n",
      "After 6 year(s), there is 73.509 units of sample left\n",
      "After 7 year(s), there is 69.834 units of sample left\n",
      "After 8 year(s), there is 66.342 units of sample left\n",
      "After 9 year(s), there is 63.025 units of sample left\n",
      "After 10 year(s), there is 59.874 units of sample left\n",
      "After 11 year(s), there is 56.880 units of sample left\n",
      "After 12 year(s), there is 54.036 units of sample left\n",
      "After 13 year(s), there is 51.334 units of sample left\n",
      "After 14 year(s), there is 48.767 units of sample left\n",
      "The sample will take 14 years\n"
     ]
    }
   ],
   "source": [
    "sample = 100\n",
    "year = 0\n",
    "while sample > 100/2:\n",
    "    sample *= 0.95\n",
    "    year += 1\n",
    "    print(f'After {year} year(s), there is {sample:.3f} units of sample left')\n",
    "print(f'The sample will take {year} years')"
   ]
  },
  {
   "cell_type": "code",
   "execution_count": 9,
   "id": "b24e828d",
   "metadata": {},
   "outputs": [
    {
     "name": "stdout",
     "output_type": "stream",
     "text": [
      "[(2016, 3.410000000000025)]\n"
     ]
    }
   ],
   "source": [
    "co2_data = [\n",
    "    (2000, 369.55), (2001, 371.14), (2002, 373.28), \n",
    "    (2003, 375.80), (2004, 377.52), (2005, 379.80), \n",
    "    (2006, 381.90), (2007, 383.79), (2008, 385.60), \n",
    "    (2009, 387.43), (2010, 389.90), (2011, 391.65), \n",
    "    (2012, 393.85), (2013, 396.52), (2014, 398.65),\n",
    "    (2015, 400.83), (2016, 404.24), (2017, 406.55), \n",
    "    (2018, 408.52), (2019, 411.44), (2020, 414.24)\n",
    "]\n",
    "\n",
    "final_list = []\n",
    "co2_previous = co2_data[0][1]\n",
    "for (year, co2) in co2_data:\n",
    "    co2_change = co2 - co2_previous\n",
    "    if co2_change >= 3:\n",
    "        # final_list += [year, co2_change]\n",
    "        final_list.append((year, co2_change))\n",
    "    co2_previous = co2\n",
    "print(final_list)"
   ]
  }
 ],
 "metadata": {
  "kernelspec": {
   "display_name": "base",
   "language": "python",
   "name": "python3"
  },
  "language_info": {
   "codemirror_mode": {
    "name": "ipython",
    "version": 3
   },
   "file_extension": ".py",
   "mimetype": "text/x-python",
   "name": "python",
   "nbconvert_exporter": "python",
   "pygments_lexer": "ipython3",
   "version": "3.13.5"
  },
  "toc": {
   "base_numbering": 1,
   "nav_menu": {},
   "number_sections": true,
   "sideBar": true,
   "skip_h1_title": false,
   "title_cell": "Table of Contents",
   "title_sidebar": "Contents",
   "toc_cell": false,
   "toc_position": {},
   "toc_section_display": true,
   "toc_window_display": false
  }
 },
 "nbformat": 4,
 "nbformat_minor": 5
}
