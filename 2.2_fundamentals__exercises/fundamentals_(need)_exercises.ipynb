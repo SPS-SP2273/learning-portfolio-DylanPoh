{
 "cells": [
  {
   "attachments": {},
   "cell_type": "markdown",
   "id": "123456",
   "metadata": {},
   "source": [
    "<div style=\"text-align:left;font-size:2em\"><span style=\"font-weight:bolder;font-size:1.25em\">SP2273 | Learning Portfolio</span><br><br><span style=\"font-weight:bold;color:darkred\">Fundamentals (Need) Exercises</span></div>"
   ]
  },
  {
   "cell_type": "markdown",
   "id": "a8c21445",
   "metadata": {},
   "source": [
    "```python\n",
    "print('Hello World')\n",
    "\n",
    "x = 0\n",
    "if x == 0:\n",
    "    print('0')\n",
    "elif x > 0:\n",
    "    print('+')\n",
    "else:\n",
    "    print('-')\n",
    "\n",
    "(1 + 2 - 3) * 4 / 5^6\n",
    "\n",
    "import numpy as np\n",
    "import math\n",
    "\n",
    "np.sqrt(4)\n",
    "'apple'.upper()\n",
    "'APPLE'.lower()\n",
    "```\n",
    "\n",
    "*py_list = [1, 2, 3]*\n",
    "\n",
    "*py_dictionary = {'Names': 'Batman', 'Real name': 'Bruce Wayne'}*\n",
    "\n",
    "*\"I am Batman\".split()*"
   ]
  },
  {
   "cell_type": "code",
   "execution_count": 8,
   "id": "e3860809",
   "metadata": {},
   "outputs": [
    {
     "name": "stdout",
     "output_type": "stream",
     "text": [
      "3 4 5\n"
     ]
    }
   ],
   "source": [
    "import numpy as np\n",
    "x, y = 3, 4\n",
    "z = int(np.sqrt(x**2 + y**2))\n",
    "print(x, y, z)"
   ]
  },
  {
   "cell_type": "markdown",
   "id": "04a2c289",
   "metadata": {},
   "source": [
    "1. similar to a math function, you input an argument(s), based on a predetermined set of rules, the function spits out an output\n",
    "1. the input of a function\n",
    "1. notes for humans, won't be run by python\n",
    "1. used in \"if-else\" statements, to differentiate the condition from the program to be run\n",
    "1. a set of pre-programmed functions (superpowers) that you can import to perform specific tasks\n",
    "1. belongs to\n",
    "1. depending on the previous condition, perform these steps:\n",
    "1. used to define a 1D list\n",
    "1. a 2D list, lists in a list (list-ception)\n",
    "1. a dictionary, where a key is paired with a value"
   ]
  },
  {
   "cell_type": "code",
   "execution_count": null,
   "id": "13bf6d25",
   "metadata": {},
   "outputs": [
    {
     "data": {
      "text/plain": [
       "0"
      ]
     },
     "execution_count": 17,
     "metadata": {},
     "output_type": "execute_result"
    }
   ],
   "source": [
    "5/2           # Division\n",
    "5//2          # Divide and Truncate?\n",
    "5%2           # Mod"
   ]
  }
 ],
 "metadata": {
  "kernelspec": {
   "display_name": "base",
   "language": "python",
   "name": "python3"
  },
  "language_info": {
   "codemirror_mode": {
    "name": "ipython",
    "version": 3
   },
   "file_extension": ".py",
   "mimetype": "text/x-python",
   "name": "python",
   "nbconvert_exporter": "python",
   "pygments_lexer": "ipython3",
   "version": "3.13.5"
  },
  "toc": {
   "base_numbering": 1,
   "nav_menu": {},
   "number_sections": true,
   "sideBar": true,
   "skip_h1_title": false,
   "title_cell": "Table of Contents",
   "title_sidebar": "Contents",
   "toc_cell": false,
   "toc_position": {},
   "toc_section_display": true,
   "toc_window_display": false
  }
 },
 "nbformat": 4,
 "nbformat_minor": 5
}
