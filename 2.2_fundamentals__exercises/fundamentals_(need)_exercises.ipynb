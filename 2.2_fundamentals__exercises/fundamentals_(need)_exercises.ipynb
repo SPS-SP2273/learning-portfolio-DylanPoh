{
 "cells": [
  {
   "attachments": {},
   "cell_type": "markdown",
   "id": "123456",
   "metadata": {},
   "source": [
    "<div style=\"text-align:left;font-size:2em\"><span style=\"font-weight:bolder;font-size:1.25em\">SP2273 | Learning Portfolio</span><br><br><span style=\"font-weight:bold;color:darkred\">Fundamentals (Need) Exercises</span></div>"
   ]
  },
  {
   "cell_type": "markdown",
   "id": "1cd692be",
   "metadata": {},
   "source": [
    "1. \"print()\" prints out whatever is inside, can be used to provide feedback to programmer on wat the program is doing.\n",
    "1. \"=\" assigns a value to a variable.\n",
    "1. \"if else\" checks a certain condition, and runs the if statement when TRUE, else statement when FALSE.\n",
    "1. \"elif\" checks another condition when the if condition is False.\n",
    "1. \"== < <= > >= !=\" are all comparators that compares two values and returns a True or False.\n",
    "1. \"+ - * / **\" are all mathematical operators.\n",
    "1. \"import as\" imports a specific module, as an abbreviation.\n",
    "1. \"np.sqrt()\" the \".\" means that sqrt() is a function from numpy.\n",
    "1. \"apple\".upper() \"APPLE\".lower() capitalises all letters or lowercases all letters respectively.\n",
    "1. *py_list = [1, 2, 3] creates a list of elements*\n",
    "1. *py_dictionary = {'Names': 'Batman', 'Real name': 'Bruce Wayne'} creates a list of key and value pairs*\n",
    "1. *\"I am Batman\".split() splits the text into strings along the spaces*"
   ]
  },
  {
   "cell_type": "code",
   "execution_count": 8,
   "id": "e3860809",
   "metadata": {},
   "outputs": [
    {
     "name": "stdout",
     "output_type": "stream",
     "text": [
      "3 4 5\n"
     ]
    }
   ],
   "source": [
    "import numpy as np\n",
    "x, y = 3, 4\n",
    "z = int(np.sqrt(x**2 + y**2))\n",
    "print(x, y, z)"
   ]
  },
  {
   "cell_type": "markdown",
   "id": "04a2c289",
   "metadata": {},
   "source": [
    "| #  | Term         | Description                                                                                                                   |\n",
    "|----|--------------|-------------------------------------------------------------------------------------------------------------------------------|\n",
    "|  1 | Function     | similar to a math function, you input an argument(s), based on a predetermined set of rules, the function spits out an output |\n",
    "|  2 | Arguments    | the input of a function                                                                                                       |\n",
    "|  3 | Comments     | notes for humans, won't be run by python                                                                                      |\n",
    "|  4 | Indentations | used in \"if-else\", loops, functions, \"try-except\" statements, to indicate a code block                                       |\n",
    "|  5 | Packages     | a set of pre-programmed functions (superpowers) that you can import to perform specific tasks                                 |\n",
    "|  6 | .            | belongs to                                                                                                                    |\n",
    "|  7 | :            | defines a code block, or used to indicate a range of values when slicing a list                                                                     |\n",
    "|  8 | []           | used to define a 1D list                                                                                                      |\n",
    "|  9 | [[],[]]      | a 2D list, lists in a list (list-ception)                                                                                     |\n",
    "| 10 | {}           | a dictionary, where a key is paired with a value"
   ]
  },
  {
   "cell_type": "code",
   "execution_count": 1,
   "id": "13bf6d25",
   "metadata": {},
   "outputs": [
    {
     "data": {
      "text/plain": [
       "1"
      ]
     },
     "execution_count": 1,
     "metadata": {},
     "output_type": "execute_result"
    }
   ],
   "source": [
    "5/2           # Division\n",
    "5//2          # Divides and Truncate\n",
    "5%2           # Divides and returns the remainder"
   ]
  }
 ],
 "metadata": {
  "kernelspec": {
   "display_name": "base",
   "language": "python",
   "name": "python3"
  },
  "language_info": {
   "codemirror_mode": {
    "name": "ipython",
    "version": 3
   },
   "file_extension": ".py",
   "mimetype": "text/x-python",
   "name": "python",
   "nbconvert_exporter": "python",
   "pygments_lexer": "ipython3",
   "version": "3.13.5"
  },
  "toc": {
   "base_numbering": 1,
   "nav_menu": {},
   "number_sections": true,
   "sideBar": true,
   "skip_h1_title": false,
   "title_cell": "Table of Contents",
   "title_sidebar": "Contents",
   "toc_cell": false,
   "toc_position": {},
   "toc_section_display": true,
   "toc_window_display": false
  }
 },
 "nbformat": 4,
 "nbformat_minor": 5
}
