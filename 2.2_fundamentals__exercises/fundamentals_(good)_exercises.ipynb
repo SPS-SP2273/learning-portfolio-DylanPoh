{
 "cells": [
  {
   "attachments": {},
   "cell_type": "markdown",
   "id": "123456",
   "metadata": {},
   "source": [
    "<div style=\"text-align:left;font-size:2em\"><span style=\"font-weight:bolder;font-size:1.25em\">SP2273 | Learning Portfolio</span><br><br><span style=\"font-weight:bold;color:darkred\">Fundamentals (Good) Exercises</span></div>"
   ]
  },
  {
   "cell_type": "code",
   "execution_count": 4,
   "id": "899edaab",
   "metadata": {},
   "outputs": [
    {
     "name": "stdout",
     "output_type": "stream",
     "text": [
      "\"How you doin DYLNA!\"\n"
     ]
    }
   ],
   "source": [
    "user_input = input('Please input your name')\n",
    "print('\"How you doin ', user_input.upper(), '!\"', sep=\"\")"
   ]
  },
  {
   "cell_type": "code",
   "execution_count": 7,
   "id": "987865a7",
   "metadata": {},
   "outputs": [
    {
     "name": "stdout",
     "output_type": "stream",
     "text": [
      "“My name is Dylan and I am 21 years old.”\n"
     ]
    }
   ],
   "source": [
    "user_name = input('Please input your name.')\n",
    "user_age = input('Please input your age.')\n",
    "print(f'“My name is {user_name} and I am {user_age} years old.”')"
   ]
  },
  {
   "cell_type": "code",
   "execution_count": 11,
   "id": "96e24467",
   "metadata": {},
   "outputs": [
    {
     "name": "stdout",
     "output_type": "stream",
     "text": [
      "The value of pi to 2 decimal places is: 3.14\n",
      "The value of pi to 2 decimal places is: 3.142\n",
      "The value of pi to 2 decimal places is: 3.1416\n"
     ]
    }
   ],
   "source": [
    "pi = 3.141592653589793\n",
    "print(f'The value of pi to 2 decimal places is: {pi:.2f}')\n",
    "print(f'The value of pi to 2 decimal places is: {pi:.3f}')\n",
    "print(f'The value of pi to 2 decimal places is: {pi:.4f}')"
   ]
  },
  {
   "cell_type": "code",
   "execution_count": 38,
   "id": "3651d098",
   "metadata": {},
   "outputs": [
    {
     "name": "stdout",
     "output_type": "stream",
     "text": [
      "Apple      $ 0.99\n",
      "Banana     $ 0.59\n",
      "Orange     $ 1.29\n"
     ]
    }
   ],
   "source": [
    "py_list = ['Apple', 'Banana', 'Orange', 0.99, 0.59, 1.29]\n",
    "for n in range(3):\n",
    "    print(f'{py_list[n]:<10} ${py_list[n+3]:>5}')"
   ]
  },
  {
   "cell_type": "code",
   "execution_count": 74,
   "id": "09dd9c28",
   "metadata": {},
   "outputs": [
    {
     "name": "stdout",
     "output_type": "stream",
     "text": [
      "B\n"
     ]
    }
   ],
   "source": [
    "user_score = input('Please input your score.')\n",
    "try:\n",
    "    user_score_int = int(user_score)\n",
    "    if 0 <= user_score_int <= 100:\n",
    "        if user_score_int >= 70:\n",
    "            print('A')\n",
    "        elif user_score_int >= 50:\n",
    "            print('B')\n",
    "        elif user_score_int >= 35:\n",
    "            print('C')\n",
    "        else:\n",
    "            print('Fail')\n",
    "    else:\n",
    "        print('Please input a score within the range 0~100')\n",
    "except ValueError:\n",
    "    print('Please input an integer')"
   ]
  },
  {
   "cell_type": "code",
   "execution_count": null,
   "id": "9c461421",
   "metadata": {},
   "outputs": [
    {
     "name": "stdout",
     "output_type": "stream",
     "text": [
      "120\n",
      "Invalid input\n",
      "i=-1 factorial(i)='Invalid input'\n",
      "i=0 factorial(i)=1\n",
      "i=1 factorial(i)=1\n",
      "i=2 factorial(i)=2\n",
      "i=3 factorial(i)=6\n",
      "i=4 factorial(i)=24\n",
      "i=5 factorial(i)=120\n"
     ]
    }
   ],
   "source": [
    "def factorial(n):\n",
    "    if n < 0:\n",
    "        return \"Invalid input\"\n",
    "    elif n == 0:\n",
    "        return 1\n",
    "    else:\n",
    "        result = 1\n",
    "        for number in range(1, n+1):\n",
    "            result *= number\n",
    "        return result\n",
    "\n",
    "\n",
    "print(factorial(5))   # Testing, expected output: 120\n",
    "print(factorial(-1))  # Testing, expected output: Invalid input\n",
    "\n",
    "for i in range(-1,6):   # Testing\n",
    "    print(f'{i=} {factorial(i)=}')"
   ]
  }
 ],
 "metadata": {
  "kernelspec": {
   "display_name": "base",
   "language": "python",
   "name": "python3"
  },
  "language_info": {
   "codemirror_mode": {
    "name": "ipython",
    "version": 3
   },
   "file_extension": ".py",
   "mimetype": "text/x-python",
   "name": "python",
   "nbconvert_exporter": "python",
   "pygments_lexer": "ipython3",
   "version": "3.13.5"
  },
  "toc": {
   "base_numbering": 1,
   "nav_menu": {},
   "number_sections": true,
   "sideBar": true,
   "skip_h1_title": false,
   "title_cell": "Table of Contents",
   "title_sidebar": "Contents",
   "toc_cell": false,
   "toc_position": {},
   "toc_section_display": true,
   "toc_window_display": false
  }
 },
 "nbformat": 4,
 "nbformat_minor": 5
}
