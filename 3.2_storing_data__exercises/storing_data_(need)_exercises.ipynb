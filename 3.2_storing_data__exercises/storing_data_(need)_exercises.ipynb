{
 "cells": [
  {
   "attachments": {},
   "cell_type": "markdown",
   "id": "123456",
   "metadata": {},
   "source": [
    "<div style=\"text-align:left;font-size:2em\"><span style=\"font-weight:bolder;font-size:1.25em\">SP2273 | Learning Portfolio</span><br><br><span style=\"font-weight:bold;color:darkred\">Storing Data (Need) Exercises</span></div>"
   ]
  },
  {
   "cell_type": "markdown",
   "id": "888d9808",
   "metadata": {},
   "source": [
    "1. Similarity\n",
    "    1. Both lists and arrays can store multiple elements.\n",
    "    1. Both lists and arrays can be multiple dimensional, by putting lists inside of lists.\n",
    "    1. *Elements can be accessed from both lists and arrays.*\n",
    "1. Difference\n",
    "    1. For a 2D lists, the lists inside of a list can be of different length. While for a 2D array the lists inside the array has to be of the same length.\n",
    "    1. For list, cannot add int to the list, while for arrays, each element will increment by the added number.\n",
    "    1. For multiplication by int, list will duplicate the elements by the int, while arrays will multiply each element by the int.\n",
    "    1. For multiplication by another list/array, only array will multiply each element with its associated element.\n",
    "    1. For conditionals, only array will return a boolean list.\n",
    "    1. *Lists can hold elements of different types, while arrays changes all values to the most general type.*\n",
    "    1. *For adding list/array to a list/array, the list combines both lists into a bigger list, while array adds each individual element together*\n",
    "1. Dictionary ~~has a list of keys paired with an associated values.~~ is a collection of key value pairs."
   ]
  },
  {
   "cell_type": "code",
   "execution_count": 8,
   "id": "5698029e",
   "metadata": {},
   "outputs": [
    {
     "name": "stdout",
     "output_type": "stream",
     "text": [
      "a1\n",
      "c3\n",
      "e5\n",
      "g7\n",
      "i9\n"
     ]
    }
   ],
   "source": [
    "py_list = [\"a1\", \"b2\", \"c3\", \"d4\", \"e5\", \"f6\", \"g7\", \"h8\", \"i9\", \"j10\"]\n",
    "                    # Prints 'a1'\n",
    "                    # Prints 'c3'\n",
    "                    # Prints 'e5'\n",
    "                    # Prints 'g7'\n",
    "# print(py_list[8])   # Prints 'i9'\n",
    "\n",
    "for i in range(0,9,2):\n",
    "    print(py_list[i])"
   ]
  },
  {
   "cell_type": "code",
   "execution_count": 12,
   "id": "a28c8753",
   "metadata": {},
   "outputs": [
    {
     "name": "stdout",
     "output_type": "stream",
     "text": [
      "Boron\n",
      "Boron\n"
     ]
    }
   ],
   "source": [
    "elements = ['Hydrogen',\n",
    "            'Helium', 'Lithium',\n",
    "            'Beryllium', 'Boron', 'Carbon',\n",
    "            'Nitrogen', 'Oxygen',\n",
    "            'Fluorine',\n",
    "            'Neon']\n",
    "\n",
    "print(elements[4])\n",
    "print(elements[-6])"
   ]
  },
  {
   "cell_type": "code",
   "execution_count": 17,
   "id": "2a0e4e44",
   "metadata": {},
   "outputs": [
    {
     "data": {
      "text/plain": [
       "9"
      ]
     },
     "execution_count": 17,
     "metadata": {},
     "output_type": "execute_result"
    }
   ],
   "source": [
    "import numpy as np\n",
    "numbers=[45, 60, 1, 30, 96, 1, 96, 57, 16, 1,\n",
    "        99, 62, 86, 43, 42, 60, 59, 1, 1, 35,\n",
    "        83, 47, 34, 28, 68, 23, 22, 92, 1, 79,\n",
    "        1, 29, 94, 72, 46, 47, 1, 74, 32, 20,\n",
    "        8, 37, 35, 1, 89, 29, 86, 19, 43, 61]\n",
    "np_numbers = np.array(numbers)\n",
    "mask = (np_numbers == 1)\n",
    "len(np_numbers[mask])"
   ]
  },
  {
   "cell_type": "code",
   "execution_count": 28,
   "id": "14c248ec",
   "metadata": {},
   "outputs": [
    {
     "name": "stdout",
     "output_type": "stream",
     "text": [
      "np_x_1.mean()=38.500 np_x_2.mean()=302.500\n",
      "np_x_1.std()=32.420 np_x_2.std()=326.089\n",
      "0.9871796626270702\n",
      "[[1.         0.98717966]\n",
      " [0.98717966 1.        ]]\n"
     ]
    }
   ],
   "source": [
    "x_1 = [1, 4, 9, 16, 25, 36, 49, 64, 81, 100]\n",
    "x_2 = [1, 8, 27, 64, 125, 216, 343, 512, 729, 1000]\n",
    "np_x_1 = np.array(x_1)\n",
    "np_x_2 = np.array(x_2)\n",
    "\n",
    "# Q1\n",
    "print(f'{np_x_1.mean()=:.3f} {np_x_2.mean()=:.3f}')\n",
    "\n",
    "# Q2\n",
    "print(f'{np_x_1.std()=:.3f} {np_x_2.std()=:.3f}')\n",
    "\n",
    "# Q3\n",
    "my_corrcoef = ( ( np_x_1 - np_x_1.mean() ) * ( np_x_2 - np_x_2.mean() ) ).mean() / (np_x_1.std() * np_x_2.std())\n",
    "np_corrcoef = np.corrcoef(np_x_1, np_x_2)\n",
    "print(my_corrcoef)\n",
    "print(np_corrcoef)"
   ]
  }
 ],
 "metadata": {
  "kernelspec": {
   "display_name": "base",
   "language": "python",
   "name": "python3"
  },
  "language_info": {
   "codemirror_mode": {
    "name": "ipython",
    "version": 3
   },
   "file_extension": ".py",
   "mimetype": "text/x-python",
   "name": "python",
   "nbconvert_exporter": "python",
   "pygments_lexer": "ipython3",
   "version": "3.13.5"
  },
  "toc": {
   "base_numbering": 1,
   "nav_menu": {},
   "number_sections": true,
   "sideBar": true,
   "skip_h1_title": false,
   "title_cell": "Table of Contents",
   "title_sidebar": "Contents",
   "toc_cell": false,
   "toc_position": {},
   "toc_section_display": true,
   "toc_window_display": false
  }
 },
 "nbformat": 4,
 "nbformat_minor": 5
}
