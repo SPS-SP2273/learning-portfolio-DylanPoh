{
 "cells": [
  {
   "attachments": {},
   "cell_type": "markdown",
   "id": "123456",
   "metadata": {},
   "source": [
    "<div style=\"text-align:left;font-size:2em\"><span style=\"font-weight:bolder;font-size:1.25em\">SP2273 | Learning Portfolio</span><br><br><span style=\"font-weight:bold;color:darkred\">Storing Data (Good) Exercises</span></div>"
   ]
  },
  {
   "cell_type": "markdown",
   "id": "7355571c",
   "metadata": {},
   "source": [
    "Subsetting: ~~Choosing elements from a list~~ Selecting part of a bigger collection (like a list or array).\n",
    "\n",
    "Indexing: Choosing one specific element from a list by its position, counting from 0\n",
    "\n",
    "Slicing: Choosing a range of elements from a list, where the end index is not included\n",
    "\n",
    "Masking\t: Filtering out elements in a NumPy array based on a condition, using a mask (an array of True/False)\n"
   ]
  },
  {
   "cell_type": "code",
   "execution_count": 3,
   "id": "4b0918c4",
   "metadata": {},
   "outputs": [
    {
     "name": "stdout",
     "output_type": "stream",
     "text": [
      "['A' 'C' 'E' 'G' 'I']\n"
     ]
    }
   ],
   "source": [
    "import numpy as np\n",
    "np_array_2d = np.array([[1, \"A\"], [3, \"C\"], [2, \"B\"], [4, \"D\"],\n",
    "                        [5, \"E\"], [7, \"G\"], [6, \"F\"], [8, \"H\"],\n",
    "                        [10, \"J\"], [9, \"I\"]])\n",
    "\n",
    "np_array_numbers = np_array_2d[:, 0]\n",
    "np_array_int = np_array_numbers.astype(int)\n",
    "mask = np_array_int%2 == 1\n",
    "my_array = np_array_2d[mask, 1]\n",
    "print(my_array)\n",
    "\n",
    "# Hi, I believe I have completed all 5 steps. My final output is ['A' 'C' 'E' 'G' 'I']."
   ]
  },
  {
   "cell_type": "code",
   "execution_count": 9,
   "id": "fb34ad08",
   "metadata": {},
   "outputs": [
    {
     "name": "stdout",
     "output_type": "stream",
     "text": [
      "16.4 μs ± 289 ns per loop (mean ± std. dev. of 7 runs, 100,000 loops each)\n"
     ]
    }
   ],
   "source": [
    "%%timeit\n",
    "py_list = [[66, 50, 57, -1, -1],\n",
    "           [92, -1, 88, -1, -1],\n",
    "           [75, -1, -1, 76, -1],\n",
    "           [-1, 51, 87, -1, -1],\n",
    "           [71, -1, 67, -1, 69]]\n",
    "\n",
    "# Creating masks for <50, >50, ==50\n",
    "np_array_2d = np.array(py_list)\n",
    "np_array_neg1 = np_array_2d < 50\n",
    "np_array_pos1 = np_array_2d > 50\n",
    "np_array_0 = np_array_2d == 50\n",
    "\n",
    "# Creating a 5x5 matrix of '0'\n",
    "py_list_null = []\n",
    "for i in range(5):\n",
    "    py_list_null.append([0]*5)\n",
    "\n",
    "'''\n",
    "print(np_array_neg1)\n",
    "print(np_array_pos1)\n",
    "print(np_array_0)\n",
    "'''\n",
    "\n",
    "np_array_null = np.array(py_list_null)\n",
    "np_array_2d = np_array_null + (-1 * np_array_neg1) + (np_array_pos1)\n",
    "# print(np_array_2d)"
   ]
  },
  {
   "cell_type": "code",
   "execution_count": 8,
   "id": "a6ba0460",
   "metadata": {},
   "outputs": [
    {
     "name": "stdout",
     "output_type": "stream",
     "text": [
      "9.78 μs ± 387 ns per loop (mean ± std. dev. of 7 runs, 100,000 loops each)\n"
     ]
    }
   ],
   "source": [
    "%%timeit\n",
    "py_list = [[66, 50, 57, -1, -1],\n",
    "           [92, -1, 88, -1, -1],\n",
    "           [75, -1, -1, 76, -1],\n",
    "           [-1, 51, 87, -1, -1],\n",
    "           [71, -1, 67, -1, 69]]\n",
    "\n",
    "np_array_2d = np.array(py_list)\n",
    "np_array_2d[np_array_2d < 50] = -1\n",
    "np_array_2d[np_array_2d > 50] = 1\n",
    "np_array_2d[np_array_2d == 50] = 0"
   ]
  },
  {
   "cell_type": "markdown",
   "id": "53db37b4",
   "metadata": {},
   "source": [
    "Wow, an amazing solution by my colleague. How did I not think of that?"
   ]
  }
 ],
 "metadata": {
  "kernelspec": {
   "display_name": "base",
   "language": "python",
   "name": "python3"
  },
  "language_info": {
   "codemirror_mode": {
    "name": "ipython",
    "version": 3
   },
   "file_extension": ".py",
   "mimetype": "text/x-python",
   "name": "python",
   "nbconvert_exporter": "python",
   "pygments_lexer": "ipython3",
   "version": "3.13.5"
  },
  "toc": {
   "base_numbering": 1,
   "nav_menu": {},
   "number_sections": true,
   "sideBar": true,
   "skip_h1_title": false,
   "title_cell": "Table of Contents",
   "title_sidebar": "Contents",
   "toc_cell": false,
   "toc_position": {},
   "toc_section_display": true,
   "toc_window_display": false
  }
 },
 "nbformat": 4,
 "nbformat_minor": 5
}
