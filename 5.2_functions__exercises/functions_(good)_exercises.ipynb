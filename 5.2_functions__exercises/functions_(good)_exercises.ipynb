{
 "cells": [
  {
   "attachments": {},
   "cell_type": "markdown",
   "id": "123456",
   "metadata": {},
   "source": [
    "<div style=\"text-align:left;font-size:2em\"><span style=\"font-weight:bolder;font-size:1.25em\">SP2273 | Learning Portfolio</span><br><br><span style=\"font-weight:bold;color:darkred\">Functions (Good) Exercises</span></div>"
   ]
  },
  {
   "cell_type": "code",
   "execution_count": 43,
   "id": "91389ac4",
   "metadata": {},
   "outputs": [
    {
     "name": "stdout",
     "output_type": "stream",
     "text": [
      "Please ensure temperature is above absolute zero\n"
     ]
    }
   ],
   "source": [
    "def convert_celsius(temperature_celsius, target_scale = 'Fahrenheit'):\n",
    "    if (type(temperature_celsius) != int) & (type(temperature_celsius) != float):\n",
    "        print(\"Please ensure temperature is numerical\")\n",
    "    elif temperature_celsius < -273.15:\n",
    "        print(\"Please ensure temperature is above absolute zero\")\n",
    "    elif (target_scale != 'Fahrenheit') & (target_scale != 'Kelvin'):\n",
    "        print(\"Please ensure target scale is 'Fahrenheit' or 'Kelvin'\")\n",
    "    elif target_scale == 'Kelvin':\n",
    "        return temperature_celsius + 273.15\n",
    "    else:\n",
    "        return temperature_celsius*9/5 + 32\n",
    "\n",
    "convert_celsius(-273.16, 'Kelvin')"
   ]
  },
  {
   "cell_type": "code",
   "execution_count": 37,
   "id": "3fbafe62",
   "metadata": {},
   "outputs": [
    {
     "name": "stdout",
     "output_type": "stream",
     "text": [
      "Please ensure temperature is above absolute zero\n"
     ]
    }
   ],
   "source": [
    "def convert_farenheit(temperature_fahrenheit, target_scale = 'Celsius'):\n",
    "    if (type(temperature_fahrenheit) != int) & (type(temperature_fahrenheit) != float):\n",
    "        print(\"Please ensure temperature is numerical\")\n",
    "    elif temperature_fahrenheit < -459.67:\n",
    "        print(\"Please ensure temperature is above absolute zero\")\n",
    "    elif (target_scale != 'Celsius') & (target_scale != 'Kelvin'):\n",
    "        print(\"Please ensure target scale is 'Celsius' or 'Kelvin'\")\n",
    "    elif target_scale == 'Kelvin':\n",
    "        return (temperature_fahrenheit - 32)*5/9 + 273.15\n",
    "    else:\n",
    "        return (temperature_fahrenheit - 32)*5/9\n",
    "\n",
    "convert_farenheit(-459.68, \"Kelvin\")"
   ]
  },
  {
   "cell_type": "code",
   "execution_count": 47,
   "id": "92c986e0",
   "metadata": {},
   "outputs": [
    {
     "data": {
      "text/plain": [
       "32.0"
      ]
     },
     "execution_count": 47,
     "metadata": {},
     "output_type": "execute_result"
    }
   ],
   "source": [
    "def convert_kelvin(temperature_kelvin, target_scale = 'Celsius'):\n",
    "    if (type(temperature_kelvin) != int) & (type(temperature_kelvin) != float):\n",
    "        print(\"Please ensure temperature is numerical\")\n",
    "    elif temperature_kelvin < 0:\n",
    "        print(\"Please ensure temperature is above absolute zero\")\n",
    "    elif (target_scale != 'Celsius') & (target_scale != 'Fahrenheit'):\n",
    "        print(\"Please ensure target scale is 'Celsius' or 'Fahrenheit'\")\n",
    "    elif target_scale == 'Fahrenheit':\n",
    "        return (temperature_kelvin - 273.15)*9/5 + 32\n",
    "    else:\n",
    "        return temperature_kelvin - 273.15\n",
    "\n",
    "def convert_temperature(temperature, source_scale, target_scale):\n",
    "    if (source_scale != 'Celsius') & (source_scale != 'Fahrenheit') & (source_scale != 'Kelvin'):\n",
    "        print(\"Please ensure source scale is 'Celsius' or 'Fahrenheit' or 'Kelvin'\")\n",
    "    elif source_scale == 'Celsius':\n",
    "        return convert_celsius(temperature, target_scale)\n",
    "    elif source_scale == 'Fahrenheit':\n",
    "        return convert_farenheit(temperature, target_scale)\n",
    "    else:\n",
    "        return convert_kelvin(temperature, target_scale)\n",
    "    \n",
    "convert_temperature(273.15, 'Kelvin', 'Fahrenheit')"
   ]
  }
 ],
 "metadata": {
  "kernelspec": {
   "display_name": "base",
   "language": "python",
   "name": "python3"
  },
  "language_info": {
   "codemirror_mode": {
    "name": "ipython",
    "version": 3
   },
   "file_extension": ".py",
   "mimetype": "text/x-python",
   "name": "python",
   "nbconvert_exporter": "python",
   "pygments_lexer": "ipython3",
   "version": "3.13.5"
  },
  "toc": {
   "base_numbering": 1,
   "nav_menu": {},
   "number_sections": true,
   "sideBar": true,
   "skip_h1_title": false,
   "title_cell": "Table of Contents",
   "title_sidebar": "Contents",
   "toc_cell": false,
   "toc_position": {},
   "toc_section_display": true,
   "toc_window_display": false
  }
 },
 "nbformat": 4,
 "nbformat_minor": 5
}
