{
 "cells": [
  {
   "attachments": {},
   "cell_type": "markdown",
   "id": "123456",
   "metadata": {},
   "source": [
    "<div style=\"text-align:left;font-size:2em\"><span style=\"font-weight:bolder;font-size:1.25em\">SP2273 | Learning Portfolio</span><br><br><span style=\"font-weight:bold;color:darkred\">Functions (Need) Exercises</span></div>"
   ]
  },
  {
   "cell_type": "code",
   "execution_count": 12,
   "id": "fde59248",
   "metadata": {},
   "outputs": [
    {
     "data": {
      "text/plain": [
       "'Hello Catman!'"
      ]
     },
     "execution_count": 12,
     "metadata": {},
     "output_type": "execute_result"
    }
   ],
   "source": [
    "def greeting(name):\n",
    "    if name == 'Batman':\n",
    "        return 'Hello Batman! So, nice to meet you!'\n",
    "    return f'Hello {name}!'\n",
    "\n",
    "greeting('Catman')"
   ]
  },
  {
   "cell_type": "markdown",
   "id": "c738185c",
   "metadata": {},
   "source": [
    "The \"return\" keyword exits the function immediately, while returning the value. If the statement is True, the function will immediately exit while returning 'Hello Batman! So, nice to meet you!', while if the statement is False, python will skip the if statement and immediately exit the function while returning 'Hello {name}!'."
   ]
  },
  {
   "cell_type": "code",
   "execution_count": null,
   "id": "a5f9af2a",
   "metadata": {},
   "outputs": [
    {
     "name": "stdout",
     "output_type": "stream",
     "text": [
      "18.4\n"
     ]
    },
    {
     "data": {
      "text/plain": [
       "'Underweight'"
      ]
     },
     "execution_count": 35,
     "metadata": {},
     "output_type": "execute_result"
    }
   ],
   "source": [
    "def calculate_bmi(weight, height):\n",
    "    try:\n",
    "        BMI = weight / (height ** 2)\n",
    "        # print(BMI) # Test\n",
    "        if (weight <= 0) | (height <= 0):\n",
    "            print(\"Please ensure weight and height are positive\")\n",
    "        if BMI < 18.5:\n",
    "            return \"Underweight\"\n",
    "        elif BMI < 25:\n",
    "            return \"Normal Weight\"\n",
    "        elif BMI < 30:\n",
    "            return \"Overweight\"\n",
    "        else:\n",
    "            return \"Obese\"\n",
    "    except:\n",
    "        print(\"Please ensure weight and height are floats\")\n",
    "\n",
    "w = 18.4\n",
    "h = 1\n",
    "calculate_bmi(w, h)"
   ]
  },
  {
   "cell_type": "code",
   "execution_count": 55,
   "id": "101992de",
   "metadata": {},
   "outputs": [
    {
     "data": {
      "text/plain": [
       "120"
      ]
     },
     "execution_count": 55,
     "metadata": {},
     "output_type": "execute_result"
    }
   ],
   "source": [
    "def factorial(n):\n",
    "    if type(n) != int:\n",
    "        print(\"Please input an integer\")\n",
    "    elif n < 0:\n",
    "        print(\"Please input a positive integer\")\n",
    "    else:\n",
    "        x = 1\n",
    "        for i in range(n):\n",
    "            x *= (i+1)\n",
    "        return x\n",
    "\n",
    "factorial(5)"
   ]
  }
 ],
 "metadata": {
  "kernelspec": {
   "display_name": "base",
   "language": "python",
   "name": "python3"
  },
  "language_info": {
   "codemirror_mode": {
    "name": "ipython",
    "version": 3
   },
   "file_extension": ".py",
   "mimetype": "text/x-python",
   "name": "python",
   "nbconvert_exporter": "python",
   "pygments_lexer": "ipython3",
   "version": "3.13.5"
  },
  "toc": {
   "base_numbering": 1,
   "nav_menu": {},
   "number_sections": true,
   "sideBar": true,
   "skip_h1_title": false,
   "title_cell": "Table of Contents",
   "title_sidebar": "Contents",
   "toc_cell": false,
   "toc_position": {},
   "toc_section_display": true,
   "toc_window_display": false
  }
 },
 "nbformat": 4,
 "nbformat_minor": 5
}
