{
 "cells": [
  {
   "attachments": {},
   "cell_type": "markdown",
   "id": "123456",
   "metadata": {},
   "source": [
    "<div style=\"text-align:left;font-size:2em\"><span style=\"font-weight:bolder;font-size:1.25em\">SP2273 | Learning Portfolio</span><br><br><span style=\"font-weight:bold;color:darkred\">Using Jupyter (Need), Exercises</span></div>"
   ]
  },
  {
   "attachments": {},
   "cell_type": "markdown",
   "id": "123456",
   "metadata": {},
   "source": [
    "## 1 Quadratic Equations"
   ]
  },
  {
   "attachments": {},
   "cell_type": "markdown",
   "id": "123456",
   "metadata": {},
   "source": [
    "### Introduction"
   ]
  },
  {
   "cell_type": "markdown",
   "id": "123456",
   "metadata": {},
   "source": [
    "![](https://upload.wikimedia.org/wikipedia/commons/thumb/f/f8/Polynomialdeg2.svg/600px-Polynomialdeg2.svg.png)\n",
    "\n",
    "*(Image from the Wikipedia page on [Quadratic equations](https://en.wikipedia.org/wiki/Quadratic_equation))*\n",
    "\n",
    "The general form of a quadratic equation is:\n",
    "$$\n",
    "ax^2+bx+c=0\n",
    "$$\n"
   ]
  },
  {
   "attachments": {},
   "cell_type": "markdown",
   "id": "123456",
   "metadata": {},
   "source": [
    "### Solutions"
   ]
  },
  {
   "cell_type": "markdown",
   "id": "123456",
   "metadata": {},
   "source": [
    "Provided $a\\ne0$, we can use an elementary algebraic method called [completing the square](https://en.wikipedia.org/wiki/Completing_the_square) to show that a quadratic equation has the following solution:\n",
    "$$\n",
    "x=\\dfrac{-b\\pm\\sqrt{b^2-4ac}}{2a}\n",
    "$$\n"
   ]
  },
  {
   "attachments": {},
   "cell_type": "markdown",
   "id": "123456",
   "metadata": {},
   "source": [
    "### Discriminant"
   ]
  },
  {
   "cell_type": "markdown",
   "id": "123456",
   "metadata": {},
   "source": [
    "The quantity $\\Delta=b^2-4ac$ is called the **discriminant** of the equation and decides the nature of its solutions. The table below shows the various possibilities.\n",
    "\n",
    "ult (click \"Generate\" to refresh) Copy to clipboard  Preview\n",
    "|         Discriminant        | Root                                 |\n",
    "|:---------------------------:|--------------------------------------|\n",
    "|  $ \\Delta =b^ 2 - 4 ac=0 $  | A single solution of $-b/(2a)$       |\n",
    "| $ \\Delta =b^ 2 - 4 ac\\gt0 $ | Two distinct solutions               |\n",
    "| $ \\Delta =b^ 2 - 4 ac\\lt0 $ | No real solutions; both are complex. |"
   ]
  },
  {
   "cell_type": "markdown",
   "id": "e48be282",
   "metadata": {},
   "source": [
    "1. ~~It is like a Google Drive for us to upload our work for the TAs to review and give feedback~~A Git repository is a place that stores past and present versions of your code, and can be shared with other people. It allows a group of programmers to collaborate on a single file as they can see the changes made by each person to the code.\n",
    "1. Changes\n",
    "1. ~~Adding a file to a queue, in preparation to push it off~~A commit is when you record a snapshot of your project's current state to your local repository (on your computer)\n",
    "1. ~~Uploading your work onto the cloud for TAs to review~~Git pushes commits to the remote repository, which basically syncs up and updates changes made on your local computer to the remote repository. It can be useful when multiple people are working on the same project, as each person can work individually on a specific part of the code, before merging it with the main code.\n",
    "1. ~~Downloading files from the cloud onto your local drive~~You can pull commits from the remote repository and merge them with your local repository.\n",
    "1. GitHub is on the cloud, while GitHub Desktop is on the local drive. Github is the online hosting service for Git repositories, and Github Desktop is a GUI client that allows you to interact with Git repositories and Github."
   ]
  },
  {
   "cell_type": "markdown",
   "id": "862ae74e",
   "metadata": {},
   "source": [
    "$$\n",
    "\\mu=\\dfrac{1}{n}\\sum_{i=1}^{n}x_i\n",
    "$$\n",
    "$$\n",
    "\\sigma=\\sqrt{\\dfrac{1}{n}\\sum_{i=1}^{n}(x_i-\\mu)^2}\n",
    "$$\n",
    "$$\n",
    "r=\\dfrac{\\sum_{i=1}^{n}(x_i-\\mu_X)(y_i-\\mu_Y)}{\\sqrt{\\sum_{i=1}^{n}(x_i-\\mu_X)^2\\sum_{i=1}^{n}(y_i-\\mu_Y)^2}}\n",
    "$$"
   ]
  }
 ],
 "metadata": {
  "kernelspec": {
   "display_name": "Python 3",
   "language": "python",
   "name": "python3"
  },
  "language_info": {
   "codemirror_mode": {
    "name": "ipython",
    "version": 3
   },
   "file_extension": ".py",
   "mimetype": "text/x-python",
   "name": "python",
   "nbconvert_exporter": "python",
   "pygments_lexer": "ipython3",
   "version": "3.10.6 (main, Nov 14 2022, 16:10:14) [GCC 11.3.0]"
  },
  "toc": {
   "base_numbering": 1,
   "nav_menu": {},
   "number_sections": true,
   "sideBar": true,
   "skip_h1_title": false,
   "title_cell": "Table of Contents",
   "title_sidebar": "Contents",
   "toc_cell": false,
   "toc_position": {},
   "toc_section_display": true,
   "toc_window_display": false
  },
  "vscode": {
   "interpreter": {
    "hash": "31f2aee4e71d21fbe5cf8b01ff0e069b9275f58929596ceb00d14d90e3e16cd6"
   }
  }
 },
 "nbformat": 4,
 "nbformat_minor": 5
}
